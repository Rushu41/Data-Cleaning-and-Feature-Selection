{
 "cells": [
  {
   "cell_type": "code",
   "execution_count": 1,
   "id": "a8719211-268e-4e57-aebf-baea6e15e67f",
   "metadata": {},
   "outputs": [],
   "source": [
    "import pandas as pd"
   ]
  },
  {
   "cell_type": "code",
   "execution_count": 3,
   "id": "60f83dab-e8fe-4137-aef5-5a7daef1b527",
   "metadata": {},
   "outputs": [],
   "source": [
    "ds = pd.read_csv(\"loan.csv\")"
   ]
  },
  {
   "cell_type": "code",
   "execution_count": 4,
   "id": "9c735a69-5a3c-44dc-9e5c-be819e5dbdd2",
   "metadata": {},
   "outputs": [
    {
     "name": "stdout",
     "output_type": "stream",
     "text": [
      "<class 'pandas.core.frame.DataFrame'>\n",
      "RangeIndex: 10000 entries, 0 to 9999\n",
      "Data columns (total 12 columns):\n",
      " #   Column             Non-Null Count  Dtype  \n",
      "---  ------             --------------  -----  \n",
      " 0   Loan_ID            10000 non-null  object \n",
      " 1   Gender             9675 non-null   object \n",
      " 2   Married            9901 non-null   object \n",
      " 3   Dependents         9717 non-null   object \n",
      " 4   Education          10000 non-null  object \n",
      " 5   Self_Employed      9396 non-null   object \n",
      " 6   ApplicantIncome    10000 non-null  int64  \n",
      " 7   CoapplicantIncome  10000 non-null  int64  \n",
      " 8   LoanAmount         9917 non-null   float64\n",
      " 9   Loan_Amount_Term   9791 non-null   float64\n",
      " 10  Credit_History     9166 non-null   float64\n",
      " 11  Property_Area      10000 non-null  object \n",
      "dtypes: float64(3), int64(2), object(7)\n",
      "memory usage: 937.6+ KB\n"
     ]
    }
   ],
   "source": [
    "ds.info()"
   ]
  },
  {
   "cell_type": "code",
   "execution_count": 5,
   "id": "607eb894-87b5-4739-ab0d-fb636bbe6727",
   "metadata": {},
   "outputs": [
    {
     "data": {
      "text/plain": [
       "Loan_ID                0\n",
       "Gender               325\n",
       "Married               99\n",
       "Dependents           283\n",
       "Education              0\n",
       "Self_Employed        604\n",
       "ApplicantIncome        0\n",
       "CoapplicantIncome      0\n",
       "LoanAmount            83\n",
       "Loan_Amount_Term     209\n",
       "Credit_History       834\n",
       "Property_Area          0\n",
       "dtype: int64"
      ]
     },
     "execution_count": 5,
     "metadata": {},
     "output_type": "execute_result"
    }
   ],
   "source": [
    "ds.isnull().sum()"
   ]
  },
  {
   "cell_type": "code",
   "execution_count": 7,
   "id": "e8fc37f3-e2d9-416e-a386-5e4e335d3b3e",
   "metadata": {},
   "outputs": [
    {
     "data": {
      "text/plain": [
       "Dependents\n",
       "0     5389\n",
       "2     1555\n",
       "1     1554\n",
       "3+    1219\n",
       "Name: count, dtype: int64"
      ]
     },
     "execution_count": 7,
     "metadata": {},
     "output_type": "execute_result"
    }
   ],
   "source": [
    "ds[\"Dependents\"].value_counts()"
   ]
  },
  {
   "cell_type": "code",
   "execution_count": 8,
   "id": "345d66b5-aada-4733-90d6-f2ef69499e4c",
   "metadata": {},
   "outputs": [],
   "source": [
    "ds[\"Dependents\"].fillna(ds[\"Dependents\"].mode()[0],inplace = True)"
   ]
  },
  {
   "cell_type": "code",
   "execution_count": 9,
   "id": "a80d3755-aa68-43c9-8d3c-ca0725b0a2b9",
   "metadata": {},
   "outputs": [
    {
     "data": {
      "text/plain": [
       "Loan_ID                0\n",
       "Gender               325\n",
       "Married               99\n",
       "Dependents             0\n",
       "Education              0\n",
       "Self_Employed        604\n",
       "ApplicantIncome        0\n",
       "CoapplicantIncome      0\n",
       "LoanAmount            83\n",
       "Loan_Amount_Term     209\n",
       "Credit_History       834\n",
       "Property_Area          0\n",
       "dtype: int64"
      ]
     },
     "execution_count": 9,
     "metadata": {},
     "output_type": "execute_result"
    }
   ],
   "source": [
    "ds.isnull().sum()"
   ]
  },
  {
   "cell_type": "code",
   "execution_count": 11,
   "id": "2c2c3669-f7a5-43e3-97e9-d7c697358460",
   "metadata": {},
   "outputs": [],
   "source": [
    "ds[\"Dependents\"].replace(\"3+\",\"3\",inplace=True)"
   ]
  },
  {
   "cell_type": "code",
   "execution_count": 12,
   "id": "afc40374-d53a-4c1d-b165-5453fccd3f92",
   "metadata": {},
   "outputs": [
    {
     "data": {
      "text/plain": [
       "Dependents\n",
       "0    5672\n",
       "2    1555\n",
       "1    1554\n",
       "3    1219\n",
       "Name: count, dtype: int64"
      ]
     },
     "execution_count": 12,
     "metadata": {},
     "output_type": "execute_result"
    }
   ],
   "source": [
    "ds[\"Dependents\"].value_counts()"
   ]
  },
  {
   "cell_type": "code",
   "execution_count": 17,
   "id": "7ff7d67e-07b1-4e31-ae5a-0c5b0c3c5e42",
   "metadata": {},
   "outputs": [],
   "source": [
    "ds[\"Dependents\"] = ds[\"Dependents\"].astype(\"int64\")"
   ]
  },
  {
   "cell_type": "code",
   "execution_count": 18,
   "id": "7bba5c8e-1c16-4dc6-bf53-1bdbd244ede1",
   "metadata": {},
   "outputs": [
    {
     "name": "stdout",
     "output_type": "stream",
     "text": [
      "<class 'pandas.core.frame.DataFrame'>\n",
      "RangeIndex: 10000 entries, 0 to 9999\n",
      "Data columns (total 12 columns):\n",
      " #   Column             Non-Null Count  Dtype  \n",
      "---  ------             --------------  -----  \n",
      " 0   Loan_ID            10000 non-null  object \n",
      " 1   Gender             9675 non-null   object \n",
      " 2   Married            9901 non-null   object \n",
      " 3   Dependents         10000 non-null  int64  \n",
      " 4   Education          10000 non-null  object \n",
      " 5   Self_Employed      9396 non-null   object \n",
      " 6   ApplicantIncome    10000 non-null  int64  \n",
      " 7   CoapplicantIncome  10000 non-null  int64  \n",
      " 8   LoanAmount         9917 non-null   float64\n",
      " 9   Loan_Amount_Term   9791 non-null   float64\n",
      " 10  Credit_History     9166 non-null   float64\n",
      " 11  Property_Area      10000 non-null  object \n",
      "dtypes: float64(3), int64(3), object(6)\n",
      "memory usage: 937.6+ KB\n"
     ]
    }
   ],
   "source": [
    "ds.info()"
   ]
  },
  {
   "cell_type": "code",
   "execution_count": null,
   "id": "0a9ffd61-e161-4c65-bc49-51cbf1ea5764",
   "metadata": {},
   "outputs": [],
   "source": []
  }
 ],
 "metadata": {
  "kernelspec": {
   "display_name": "Python 3 (ipykernel)",
   "language": "python",
   "name": "python3"
  },
  "language_info": {
   "codemirror_mode": {
    "name": "ipython",
    "version": 3
   },
   "file_extension": ".py",
   "mimetype": "text/x-python",
   "name": "python",
   "nbconvert_exporter": "python",
   "pygments_lexer": "ipython3",
   "version": "3.12.4"
  }
 },
 "nbformat": 4,
 "nbformat_minor": 5
}
